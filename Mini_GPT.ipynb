{
  "nbformat": 4,
  "nbformat_minor": 0,
  "metadata": {
    "colab": {
      "provenance": []
    },
    "kernelspec": {
      "name": "python3",
      "display_name": "Python 3"
    },
    "language_info": {
      "name": "python"
    }
  },
  "cells": [
    {
      "cell_type": "markdown",
      "source": [
        "### Normalization\n",
        "\n",
        "Batch Normalization (BN), normalizes acrossmini-batch independently for each for each feature. -> (x1sample1+x1sample2+x1sample3)/3\n",
        "\n",
        "Layer Normalization (LN) normalizes across the features independently for each for each sample. -> (x1+x2+x3+x4)/4\n",
        "\n",
        "\n",
        "mean of normalization = 0 & variance of normalization = 1"
      ],
      "metadata": {
        "id": "IIOArlyweoad"
      }
    },
    {
      "cell_type": "code",
      "source": [
        "import torch\n",
        "from torch import nn\n",
        "\n",
        "class LayerNorm(nn.Module):\n",
        "  def __init__(self, emb_dim):\n",
        "    super().__init__()\n",
        "    # Prevent a devison by 0\n",
        "    self.eps = 1e-5\n",
        "    # Undo the division of normalization\n",
        "    self.scale = nn.Parameter(torch.ones(emb_dim))\n",
        "    # Undo the subtraction of normalization\n",
        "    self.shift = nn.Parameter(torch.zeros(emb_dim))\n",
        "\n",
        "  def forward(self, x):\n",
        "    # The last dimention (dim=-1) is usually features.\n",
        "    mean = x.mean(dim=-1, keepdim=True)\n",
        "    # unbiased sample statistic vs Population statistics\n",
        "    var = x.var(dim=-1, keepdim=True, unbiased=True)\n",
        "    norm_x = (x - mean) / torch.sqrt(var + self.eps)\n",
        "    return self.scale * x + self.shift"
      ],
      "metadata": {
        "id": "1c_kOfCJemeC"
      },
      "execution_count": null,
      "outputs": []
    },
    {
      "cell_type": "markdown",
      "source": [
        "### GELU Activation Function"
      ],
      "metadata": {
        "id": "A6lMPpCayhEt"
      }
    },
    {
      "cell_type": "code",
      "source": [
        "class GELU(nn.Module):\n",
        "  def __init__(self):\n",
        "    super().__init__()\n",
        "\n",
        "  def forward(self, x):\n",
        "    return 0.5 * x * (1+ torch.tanh(\n",
        "        torch.sqrt(torch.tensor(2.0 / torch.pi)) *\n",
        "        (x + 0.44715 * torch.pow(x, 3))\n",
        "    ))"
      ],
      "metadata": {
        "id": "YnCq52stnlNK"
      },
      "execution_count": null,
      "outputs": []
    },
    {
      "cell_type": "code",
      "source": [
        "class FeedForward(nn.Module):\n",
        "  def __init__(self, config):\n",
        "    super().__init__()\n",
        "    self.layers = nn.Sequential(\n",
        "        nn.Linear(config['emb_dim'], 4*config['emb_dim']),\n",
        "        GELU(),\n",
        "        nn.Linear(4*config['emb_dim'], config['emb_dim'])\n",
        "    )\n",
        "\n",
        "  def forward(self, x):\n",
        "    return self.layers(x)"
      ],
      "metadata": {
        "id": "oL5bC9G-1Ab_"
      },
      "execution_count": null,
      "outputs": []
    },
    {
      "cell_type": "markdown",
      "source": [
        "### Attention"
      ],
      "metadata": {
        "id": "vkyITyUz-UtB"
      }
    },
    {
      "cell_type": "code",
      "source": [
        "from torch import nn\n",
        "\n",
        "class MultiHeadAttention(nn.Module):\n",
        "  def __init__(self, d_in, d_out, dropout, context_length, num_heads=2, qkv_bias=False):\n",
        "    super().__init__()\n",
        "    assert(d_out % num_heads == 0), \"d_out must be divisible by num_heads\"\n",
        "\n",
        "    self.num_heads = num_heads\n",
        "    self.d_out = d_out\n",
        "    self.head_dim = d_out // num_heads\n",
        "\n",
        "    self.W_query = nn.Linear(d_in, d_out, bias=qkv_bias)\n",
        "    self.W_key = nn.Linear(d_in, d_out, bias=qkv_bias)\n",
        "    self.W_value = nn.Linear(d_in, d_out, bias=qkv_bias)\n",
        "    self.out_proj = nn.Linear(d_out, d_out)\n",
        "    self.dropout = nn.Dropout(dropout)\n",
        "    self.register_buffer(\n",
        "        'mask',\n",
        "        torch.triu(torch.ones(context_length, context_length), diagonal=1)\n",
        "    )\n",
        "\n",
        "\n",
        "  def forward(self, x):\n",
        "    # x = batch, tokens, embedding dimention\n",
        "    b, num_tokens, d_in = x.shape\n",
        "\n",
        "    queries = self.W_query(x)\n",
        "    keys = self.W_key(x)\n",
        "    values = self.W_value(x)\n",
        "\n",
        "    queries = queries.view(b, num_tokens, self.num_heads, self.head_dim)\n",
        "    keys = keys.view(b, num_tokens, self.num_heads, self.head_dim)\n",
        "    values = values.view(b, num_tokens, self.num_heads, self.head_dim)\n",
        "\n",
        "    queries = queries.transpose(1, 2)\n",
        "    keys = keys.transpose(1, 2)\n",
        "    values = values.transpose(1, 2)\n",
        "\n",
        "    attn_scores = queries @ keys.transpose(2, 3)\n",
        "\n",
        "    mask_bool = self.mask.bool()[:num_tokens, :num_tokens]\n",
        "    attn_scores.masked_fill_(mask_bool, -torch.inf)\n",
        "\n",
        "    attn_weights = torch.softmax(\n",
        "        attn_scores / keys.shape[1]**0.5, dim=-1\n",
        "    )\n",
        "    attn_weights = self.dropout(attn_weights)\n",
        "    context_vec = (attn_weights @ values).transpose(1, 2)\n",
        "\n",
        "    context_vec = context_vec.contiguous().view(b, num_tokens, self.d_out)\n",
        "    context_vec = self.out_proj(context_vec) # optional projection\n",
        "\n",
        "    return context_vec"
      ],
      "metadata": {
        "id": "17tHeZ2Q-ZFD"
      },
      "execution_count": null,
      "outputs": []
    },
    {
      "cell_type": "markdown",
      "source": [
        "### Transformers"
      ],
      "metadata": {
        "id": "xykGE2Y57DgS"
      }
    },
    {
      "cell_type": "code",
      "source": [
        "class TransformerBlock(nn.Module):\n",
        "    def __init__(self, config):\n",
        "        super().__init__()\n",
        "        self.attn = MultiHeadAttention(d_in=config['emb_dim'],\n",
        "                                       d_out=config['emb_dim'],\n",
        "                                       dropout=config['dropout'],\n",
        "                                       context_length=config['context_length'],\n",
        "                                       num_heads=2,\n",
        "                                       qkv_bias=False)\n",
        "        self.norm1 = LayerNorm(emb_dim=config['emb_dim'])\n",
        "        self.norm2 = LayerNorm(emb_dim=config['emb_dim'])\n",
        "        self.ff = FeedForward(config)\n",
        "        self.dropout = nn.Dropout(config['dropout'])\n",
        "\n",
        "\n",
        "    def forward(self, x):\n",
        "        shortcut = x\n",
        "        x = self.norm1(x)\n",
        "        x = self.attn(x)\n",
        "        x = self.dropout(x)\n",
        "        x = x + shortcut\n",
        "\n",
        "        shortcut = x\n",
        "        x = self.norm2(x)\n",
        "        x = self.ff(x)\n",
        "        x = self.dropout(x)\n",
        "        x = x + shortcut\n",
        "\n",
        "        return x"
      ],
      "metadata": {
        "id": "JZUnJPyC3FPD"
      },
      "execution_count": null,
      "outputs": []
    },
    {
      "cell_type": "markdown",
      "source": [
        "### GPT Model"
      ],
      "metadata": {
        "id": "yUY2DEpIGelW"
      }
    },
    {
      "cell_type": "code",
      "source": [
        "import torch\n",
        "import torch.nn as nn\n",
        "\n",
        "class GPTModel(nn.Module):\n",
        "    def __init__(self, config):\n",
        "        super(GPTModel, self).__init__()\n",
        "        self.config = config\n",
        "        self.tok_emb = nn.Embedding(config['vocab_size'], config['emb_dim'])  # Token Embedding\n",
        "        self.pos_emb = nn.Embedding(config['context_length'], config['emb_dim']) # Positional Embedding\n",
        "        self.drop_emb = nn.Dropout(config['dropout'])\n",
        "        self.trf_blocks = nn.Sequential(*[TransformerBlock(config) for _ in range(config['n_layers'])])\n",
        "        self.final_norm = LayerNorm(config['emb_dim'])\n",
        "        self.output_head = nn.Linear(config['emb_dim'], config['vocab_size'])\n",
        "\n",
        "    def forward(self, x):\n",
        "        tok_emb = self.tok_emb(x)\n",
        "        pos_emb = self.pos_emb(torch.arange(x.size(1)))\n",
        "        x = tok_emb + pos_emb\n",
        "        x = self.drop_emb(x)\n",
        "        x = self.trf_blocks(x)\n",
        "        x = self.final_norm(x)\n",
        "        logits = self.output_head(x)\n",
        "        # the outputs of the last linear layer\n",
        "        return logits"
      ],
      "metadata": {
        "id": "olAExcYYGdXc"
      },
      "execution_count": null,
      "outputs": []
    },
    {
      "cell_type": "code",
      "source": [
        "GPT_CONFIG_124M = {\n",
        "    'vocab_size': 50257,  # Vocabulary size of gpt-2 tokenizer\n",
        "    'context_length': 1024,\n",
        "    'emb_dim': 768,\n",
        "    'n_heads': 12,  # Number of attention heads\n",
        "    'n_layers': 12, # Number of transformer blocks\n",
        "    'dropout': 0.1,\n",
        "    'qkv_bias': False # Query-Key-Value bias\n",
        "}"
      ],
      "metadata": {
        "id": "_3TBIstaG3ry"
      },
      "execution_count": null,
      "outputs": []
    },
    {
      "cell_type": "code",
      "source": [
        "!pip install tiktoken==0.9.0"
      ],
      "metadata": {
        "colab": {
          "base_uri": "https://localhost:8080/"
        },
        "id": "NXCUGBkUHAK5",
        "outputId": "dcf0dcc4-901e-4821-b149-c4b51996fcf4"
      },
      "execution_count": null,
      "outputs": [
        {
          "output_type": "stream",
          "name": "stdout",
          "text": [
            "Requirement already satisfied: tiktoken==0.9.0 in /usr/local/lib/python3.11/dist-packages (0.9.0)\n",
            "Requirement already satisfied: regex>=2022.1.18 in /usr/local/lib/python3.11/dist-packages (from tiktoken==0.9.0) (2024.11.6)\n",
            "Requirement already satisfied: requests>=2.26.0 in /usr/local/lib/python3.11/dist-packages (from tiktoken==0.9.0) (2.32.3)\n",
            "Requirement already satisfied: charset-normalizer<4,>=2 in /usr/local/lib/python3.11/dist-packages (from requests>=2.26.0->tiktoken==0.9.0) (3.4.1)\n",
            "Requirement already satisfied: idna<4,>=2.5 in /usr/local/lib/python3.11/dist-packages (from requests>=2.26.0->tiktoken==0.9.0) (3.10)\n",
            "Requirement already satisfied: urllib3<3,>=1.21.1 in /usr/local/lib/python3.11/dist-packages (from requests>=2.26.0->tiktoken==0.9.0) (2.4.0)\n",
            "Requirement already satisfied: certifi>=2017.4.17 in /usr/local/lib/python3.11/dist-packages (from requests>=2.26.0->tiktoken==0.9.0) (2025.4.26)\n"
          ]
        }
      ]
    },
    {
      "cell_type": "code",
      "source": [
        "import tiktoken\n",
        "\n",
        "tokernizer = tiktoken.get_encoding('gpt2')\n",
        "\n",
        "txt1 = 'Every effort moves you'\n",
        "txt2 = 'Every day holds a'\n",
        "batch = []\n",
        "\n",
        "batch.append(torch.tensor(tokernizer.encode(txt1)))\n",
        "batch.append(torch.tensor(tokernizer.encode(txt2)))\n",
        "batch = torch.stack(batch)\n",
        "batch"
      ],
      "metadata": {
        "colab": {
          "base_uri": "https://localhost:8080/"
        },
        "id": "NvyAMgjPG6UH",
        "outputId": "645dd024-ae66-43ef-fc52-ee47129d241f"
      },
      "execution_count": null,
      "outputs": [
        {
          "output_type": "execute_result",
          "data": {
            "text/plain": [
              "tensor([[6109, 3626, 6100,  345],\n",
              "        [6109, 1110, 6622,  257]])"
            ]
          },
          "metadata": {},
          "execution_count": 15
        }
      ]
    },
    {
      "cell_type": "code",
      "source": [
        "model = GPTModel(GPT_CONFIG_124M)\n",
        "out = model(batch)"
      ],
      "metadata": {
        "id": "YSdlsVS9HCUS"
      },
      "execution_count": null,
      "outputs": []
    },
    {
      "cell_type": "code",
      "source": [
        "sum([p.numel() for p in model.parameters()])"
      ],
      "metadata": {
        "colab": {
          "base_uri": "https://localhost:8080/"
        },
        "id": "Tod-ca4taozA",
        "outputId": "af9f5f31-e98d-4d55-e37d-90f7ac06408e"
      },
      "execution_count": null,
      "outputs": [
        {
          "output_type": "execute_result",
          "data": {
            "text/plain": [
              "163059793"
            ]
          },
          "metadata": {},
          "execution_count": 29
        }
      ]
    },
    {
      "cell_type": "markdown",
      "source": [
        "### Text Generation"
      ],
      "metadata": {
        "id": "7RVZoogEbeFD"
      }
    },
    {
      "cell_type": "code",
      "source": [
        "def generate_text():\n",
        "  pass"
      ],
      "metadata": {
        "id": "Jsa82i4a-UGt"
      },
      "execution_count": null,
      "outputs": []
    }
  ]
}